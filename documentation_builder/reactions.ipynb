{
 "metadata": {
  "name": ""
 },
 "nbformat": 3,
 "nbformat_minor": 0,
 "worksheets": [
  {
   "cells": [
    {
     "cell_type": "heading",
     "level": 1,
     "metadata": {},
     "source": [
      "Reactions in cobrapy"
     ]
    },
    {
     "cell_type": "markdown",
     "metadata": {},
     "source": [
      "We will consider the reaction glucose 6-phosphate isomerase, which interconverts glucose 6-phosphate and fructose 6-phosphate. The reaction id for this reaction in our test model is PGI."
     ]
    },
    {
     "cell_type": "code",
     "collapsed": false,
     "input": [
      "import cobra.test\n",
      "model = cobra.test.create_test_model()\n",
      "pgi = model.reactions.get_by_id(\"PGI\")\n",
      "print pgi.name"
     ],
     "language": "python",
     "metadata": {},
     "outputs": [
      {
       "output_type": "stream",
       "stream": "stdout",
       "text": [
        "glucose 6 phosphate isomerase\n"
       ]
      }
     ],
     "prompt_number": 1
    },
    {
     "cell_type": "markdown",
     "metadata": {},
     "source": [
      "We can view the reaction catalyzed by PGI as a reaction string"
     ]
    },
    {
     "cell_type": "code",
     "collapsed": false,
     "input": [
      "print pgi.reaction"
     ],
     "language": "python",
     "metadata": {},
     "outputs": [
      {
       "output_type": "stream",
       "stream": "stdout",
       "text": [
        "1.0 g6p_c <=> 1.0 f6p_c\n"
       ]
      }
     ],
     "prompt_number": 2
    },
    {
     "cell_type": "markdown",
     "metadata": {},
     "source": [
      "We can also view reaction upper and lower bounds. Because the pgi.lower_bound < 0, and pgi.upper_bound > 0, pgi is reversible"
     ]
    },
    {
     "cell_type": "code",
     "collapsed": false,
     "input": [
      "print pgi.lower_bound, \"< pgi <\", pgi.upper_bound\n",
      "print pgi.reversibility"
     ],
     "language": "python",
     "metadata": {},
     "outputs": [
      {
       "output_type": "stream",
       "stream": "stdout",
       "text": [
        "-1000.0 < pgi < 1000.0\n",
        "True\n"
       ]
      }
     ],
     "prompt_number": 3
    },
    {
     "cell_type": "markdown",
     "metadata": {},
     "source": [
      "We can also ensure the reaction is mass balanced"
     ]
    },
    {
     "cell_type": "code",
     "collapsed": false,
     "input": [
      "pgi.check_mass_balance()"
     ],
     "language": "python",
     "metadata": {},
     "outputs": [
      {
       "metadata": {},
       "output_type": "pyout",
       "prompt_number": 4,
       "text": [
        "[]"
       ]
      }
     ],
     "prompt_number": 4
    },
    {
     "cell_type": "markdown",
     "metadata": {},
     "source": [
      "In order to add a metabolite, we pass in a dict with the metabolite object and its coefficient"
     ]
    },
    {
     "cell_type": "code",
     "collapsed": false,
     "input": [
      "pgi.add_metabolites({model.metabolites.get_by_id(\"h_c\"): -1})\n",
      "print pgi.reaction"
     ],
     "language": "python",
     "metadata": {},
     "outputs": [
      {
       "output_type": "stream",
       "stream": "stdout",
       "text": [
        "1.0 g6p_c + 1 h_c <=> 1.0 f6p_c\n"
       ]
      }
     ],
     "prompt_number": 5
    },
    {
     "cell_type": "markdown",
     "metadata": {},
     "source": [
      "The reaction is no longer mass balanced"
     ]
    },
    {
     "cell_type": "code",
     "collapsed": false,
     "input": [
      "pgi.check_mass_balance()"
     ],
     "language": "python",
     "metadata": {},
     "outputs": [
      {
       "metadata": {},
       "output_type": "pyout",
       "prompt_number": 6,
       "text": [
        "['PGI', {'C': 0.0, 'H': -1.0, 'O': 0.0, 'P': 0.0}]"
       ]
      }
     ],
     "prompt_number": 6
    },
    {
     "cell_type": "markdown",
     "metadata": {},
     "source": [
      "We can remove the metabolite, and the reaction will be balanced once again."
     ]
    },
    {
     "cell_type": "code",
     "collapsed": false,
     "input": [
      "pgi.pop(model.metabolites.get_by_id(\"h_c\"))\n",
      "print pgi.reaction\n",
      "print pgi.check_mass_balance()"
     ],
     "language": "python",
     "metadata": {},
     "outputs": [
      {
       "output_type": "stream",
       "stream": "stdout",
       "text": [
        "1.0 g6p_c <=> 1.0 f6p_c\n",
        "[]\n"
       ]
      }
     ],
     "prompt_number": 7
    }
   ],
   "metadata": {}
  }
 ]
}