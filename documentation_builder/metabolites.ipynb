{
 "metadata": {
  "name": ""
 },
 "nbformat": 3,
 "nbformat_minor": 0,
 "worksheets": [
  {
   "cells": [
    {
     "cell_type": "heading",
     "level": 1,
     "metadata": {},
     "source": [
      "Metabolites in cobrapy"
     ]
    },
    {
     "cell_type": "markdown",
     "metadata": {},
     "source": [
      "We will consider cytosolic atp as our metabolite, which has the id atp_c in our test model."
     ]
    },
    {
     "cell_type": "code",
     "collapsed": false,
     "input": [
      "import cobra.test\n",
      "model = cobra.test.create_test_model()\n",
      "atp = model.metabolites.get_by_id(\"atp_c\")\n",
      "print atp.name"
     ],
     "language": "python",
     "metadata": {},
     "outputs": [
      {
       "output_type": "stream",
       "stream": "stdout",
       "text": [
        "ATP\n"
       ]
      }
     ],
     "prompt_number": 1
    },
    {
     "cell_type": "markdown",
     "metadata": {},
     "source": [
      "The metabolite is labeled as being in the cytosol"
     ]
    },
    {
     "cell_type": "code",
     "collapsed": false,
     "input": [
      "atp.compartment"
     ],
     "language": "python",
     "metadata": {},
     "outputs": [
      {
       "metadata": {},
       "output_type": "pyout",
       "prompt_number": 2,
       "text": [
        "'c'"
       ]
      }
     ],
     "prompt_number": 2
    },
    {
     "cell_type": "markdown",
     "metadata": {},
     "source": [
      "We can see that ATP is a charged molecule in our model."
     ]
    },
    {
     "cell_type": "code",
     "collapsed": false,
     "input": [
      "atp.charge"
     ],
     "language": "python",
     "metadata": {},
     "outputs": [
      {
       "metadata": {},
       "output_type": "pyout",
       "prompt_number": 3,
       "text": [
        "-4"
       ]
      }
     ],
     "prompt_number": 3
    },
    {
     "cell_type": "markdown",
     "metadata": {},
     "source": [
      "We can see the chemical formula for the metabolite as well."
     ]
    },
    {
     "cell_type": "code",
     "collapsed": false,
     "input": [
      "atp.formula"
     ],
     "language": "python",
     "metadata": {},
     "outputs": [
      {
       "metadata": {},
       "output_type": "pyout",
       "prompt_number": 4,
       "text": [
        "'C10H12N5O13P3'"
       ]
      }
     ],
     "prompt_number": 4
    }
   ],
   "metadata": {}
  }
 ]
}